{
 "cells": [
  {
   "cell_type": "markdown",
   "metadata": {},
   "source": [
    "# Script for the data pipeline process"
   ]
  },
  {
   "cell_type": "markdown",
   "metadata": {},
   "source": [
    "## Importing `libraries`"
   ]
  },
  {
   "cell_type": "code",
   "execution_count": 1,
   "metadata": {},
   "outputs": [],
   "source": [
    "import pandas as pd\n",
    "import requests\n",
    "from bs4 import BeautifulSoup\n",
    "import re\n",
    "import json\n",
    "from datetime import datetime, timedelta, date\n",
    "import pytz\n",
    "from pytz import timezone\n",
    "import sqlalchemy\n",
    "import os"
   ]
  },
  {
   "cell_type": "markdown",
   "metadata": {},
   "source": [
    "## Setting `timezone`"
   ]
  },
  {
   "cell_type": "code",
   "execution_count": 3,
   "metadata": {},
   "outputs": [],
   "source": [
    "local_timezone = pytz.timezone(\"Europe/Berlin\")"
   ]
  },
  {
   "cell_type": "markdown",
   "metadata": {},
   "source": [
    "## Setting up `python2sql connection`"
   ]
  },
  {
   "cell_type": "code",
   "execution_count": 20,
   "metadata": {},
   "outputs": [],
   "source": [
    "# setting sqlalchemy variables\n",
    "schema=\"Gans\" \n",
    "host=\"localhost\"\n",
    "user=\"root\"\n",
    "password = os.getenv(\"SQL_PW\")\n",
    "port=3306\n",
    "con = f'mysql+pymysql://{user}:{password}@{host}:{port}/{schema}'"
   ]
  },
  {
   "cell_type": "markdown",
   "metadata": {},
   "source": [
    "## `python2sql connection` to the `AWS Cloud Service`"
   ]
  },
  {
   "cell_type": "code",
   "execution_count": 4,
   "metadata": {},
   "outputs": [],
   "source": [
    "# setting sqlalchemy variables\n",
    "schema=\"gans\"\n",
    "host=\"wbs-project3-db.cbbipnfmzuch.eu-central-1.rds.amazonaws.com\"\n",
    "user=\"admin\"\n",
    "password=\"awspw123\"\n",
    "port=3306\n",
    "con = f'mysql+pymysql://{user}:{password}@{host}:{port}/{schema}'"
   ]
  },
  {
   "cell_type": "markdown",
   "metadata": {},
   "source": [
    "## Prompt which `cities` you want to investigate"
   ]
  },
  {
   "cell_type": "code",
   "execution_count": 5,
   "metadata": {},
   "outputs": [
    {
     "data": {
      "text/plain": [
       "['Berlin', 'Hamburg']"
      ]
     },
     "execution_count": 5,
     "metadata": {},
     "output_type": "execute_result"
    }
   ],
   "source": [
    "list_of_cities = []  # Create an empty list to store the cities\n",
    "\n",
    "while True:\n",
    "    city = input(\"Enter a city (or type 'quit' to exit): \")\n",
    "\n",
    "    if city.lower() == \"quit\":\n",
    "        break  # Exit the loop if the user types 'quit'\n",
    "\n",
    "    list_of_cities.append(city)\n",
    "list_of_cities"
   ]
  },
  {
   "cell_type": "markdown",
   "metadata": {},
   "source": [
    "## Defining a function to create a `cities_df`"
   ]
  },
  {
   "cell_type": "code",
   "execution_count": 6,
   "metadata": {},
   "outputs": [],
   "source": [
    "def get_cities(city_list):\n",
    "    list_for_city_df = []\n",
    "    for city in city_list:\n",
    "        url = \"https://api.api-ninjas.com/v1/city?name={}\".format(city)\n",
    "        response = requests.get(\n",
    "            url, headers={\"X-Api-Key\": os.getenv(\"X_API_KEY\")}\n",
    "        )\n",
    "        if response.status_code == requests.codes.ok:\n",
    "            cities_df = pd.DataFrame(response.json())\n",
    "            cities_df.rename(\n",
    "                columns={\"name\": \"city_name\", \"country\": \"country_code\"}, inplace=True\n",
    "            )\n",
    "            cities_df[\"timestamp_population\"] = datetime.now(local_timezone).year\n",
    "            list_for_city_df.append(cities_df)\n",
    "        else:\n",
    "            print(\"Error:\", response.status_code, response.text)\n",
    "    \n",
    "    cities_df = pd.concat(list_for_city_df, ignore_index=True)\n",
    "    return cities_df"
   ]
  },
  {
   "cell_type": "markdown",
   "metadata": {},
   "source": [
    "## Pushing the `cities_df` to `cities` table in SQL"
   ]
  },
  {
   "cell_type": "code",
   "execution_count": 7,
   "metadata": {},
   "outputs": [
    {
     "data": {
      "text/plain": [
       "2"
      ]
     },
     "execution_count": 7,
     "metadata": {},
     "output_type": "execute_result"
    }
   ],
   "source": [
    "get_cities(list_of_cities)[[\"city_name\", \"country_code\", \"latitude\", \"longitude\"]].to_sql('cities', if_exists='append', con=con, index=False)"
   ]
  },
  {
   "cell_type": "code",
   "execution_count": 17,
   "metadata": {},
   "outputs": [
    {
     "data": {
      "text/html": [
       "<div>\n",
       "<style scoped>\n",
       "    .dataframe tbody tr th:only-of-type {\n",
       "        vertical-align: middle;\n",
       "    }\n",
       "\n",
       "    .dataframe tbody tr th {\n",
       "        vertical-align: top;\n",
       "    }\n",
       "\n",
       "    .dataframe thead th {\n",
       "        text-align: right;\n",
       "    }\n",
       "</style>\n",
       "<table border=\"1\" class=\"dataframe\">\n",
       "  <thead>\n",
       "    <tr style=\"text-align: right;\">\n",
       "      <th></th>\n",
       "      <th>city_id</th>\n",
       "      <th>city_name</th>\n",
       "      <th>country_code</th>\n",
       "      <th>latitude</th>\n",
       "      <th>longitude</th>\n",
       "    </tr>\n",
       "  </thead>\n",
       "  <tbody>\n",
       "    <tr>\n",
       "      <th>0</th>\n",
       "      <td>1</td>\n",
       "      <td>Berlin</td>\n",
       "      <td>DE</td>\n",
       "      <td>52.5167</td>\n",
       "      <td>13.3833</td>\n",
       "    </tr>\n",
       "    <tr>\n",
       "      <th>1</th>\n",
       "      <td>2</td>\n",
       "      <td>Hamburg</td>\n",
       "      <td>DE</td>\n",
       "      <td>53.5500</td>\n",
       "      <td>10.0000</td>\n",
       "    </tr>\n",
       "  </tbody>\n",
       "</table>\n",
       "</div>"
      ],
      "text/plain": [
       "   city_id city_name country_code  latitude  longitude\n",
       "0        1    Berlin           DE   52.5167    13.3833\n",
       "1        2   Hamburg           DE   53.5500    10.0000"
      ]
     },
     "execution_count": 17,
     "metadata": {},
     "output_type": "execute_result"
    }
   ],
   "source": [
    "cities_sql = pd.read_sql_table(\"cities\", con=con)\n",
    "cities_sql"
   ]
  },
  {
   "cell_type": "markdown",
   "metadata": {},
   "source": [
    "## Pushing parts of `cities_df` to `populations` table in SQL"
   ]
  },
  {
   "cell_type": "code",
   "execution_count": 21,
   "metadata": {},
   "outputs": [
    {
     "data": {
      "text/plain": [
       "2"
      ]
     },
     "execution_count": 21,
     "metadata": {},
     "output_type": "execute_result"
    }
   ],
   "source": [
    "get_cities(list_of_cities).merge(cities_sql, on=\"city_name\")[[\"city_id\", \"city_name\", \"population\", \"timestamp_population\"]].to_sql('populations', if_exists='append', con=con, index=False)"
   ]
  },
  {
   "cell_type": "code",
   "execution_count": 23,
   "metadata": {},
   "outputs": [
    {
     "data": {
      "text/html": [
       "<div>\n",
       "<style scoped>\n",
       "    .dataframe tbody tr th:only-of-type {\n",
       "        vertical-align: middle;\n",
       "    }\n",
       "\n",
       "    .dataframe tbody tr th {\n",
       "        vertical-align: top;\n",
       "    }\n",
       "\n",
       "    .dataframe thead th {\n",
       "        text-align: right;\n",
       "    }\n",
       "</style>\n",
       "<table border=\"1\" class=\"dataframe\">\n",
       "  <thead>\n",
       "    <tr style=\"text-align: right;\">\n",
       "      <th></th>\n",
       "      <th>city_id</th>\n",
       "      <th>city_name</th>\n",
       "      <th>population</th>\n",
       "      <th>timestamp_population</th>\n",
       "    </tr>\n",
       "  </thead>\n",
       "  <tbody>\n",
       "    <tr>\n",
       "      <th>0</th>\n",
       "      <td>1</td>\n",
       "      <td>Berlin</td>\n",
       "      <td>3644826</td>\n",
       "      <td>2023</td>\n",
       "    </tr>\n",
       "    <tr>\n",
       "      <th>1</th>\n",
       "      <td>2</td>\n",
       "      <td>Hamburg</td>\n",
       "      <td>1841179</td>\n",
       "      <td>2023</td>\n",
       "    </tr>\n",
       "  </tbody>\n",
       "</table>\n",
       "</div>"
      ],
      "text/plain": [
       "   city_id city_name  population  timestamp_population\n",
       "0        1    Berlin     3644826                  2023\n",
       "1        2   Hamburg     1841179                  2023"
      ]
     },
     "execution_count": 23,
     "metadata": {},
     "output_type": "execute_result"
    }
   ],
   "source": [
    "popolations_sql = pd.read_sql_table(\"populations\", con = con)\n",
    "popolations_sql"
   ]
  },
  {
   "cell_type": "markdown",
   "metadata": {},
   "source": [
    "## Defining a function to create an `airports_df`"
   ]
  },
  {
   "cell_type": "code",
   "execution_count": 9,
   "metadata": {},
   "outputs": [],
   "source": [
    "def get_airports(city_list):\n",
    "\n",
    "    latitudes = []\n",
    "    longitudes = []\n",
    "\n",
    "    cities_sql = pd.read_sql_table(\"cities\", con=con)\n",
    "\n",
    "    for city in city_list:\n",
    "        latitudes.append(cities_sql.loc[cities_sql[\"city_name\"]==city][\"latitude\"].item())\n",
    "        longitudes.append(cities_sql.loc[cities_sql[\"city_name\"]==city][\"longitude\"].item())\n",
    "\n",
    "    airports_list = []\n",
    "\n",
    "    for latitudes, longitudes in zip(latitudes, longitudes):\n",
    "        url = \"https://aerodatabox.p.rapidapi.com/airports/search/location\"\n",
    "\n",
    "        querystring = {\n",
    "            \"lat\": f\"{latitudes}\",\n",
    "            \"lon\": f\"{longitudes}\",\n",
    "            \"radiusKm\": \"50\",\n",
    "            \"limit\": \"7\",\n",
    "            \"withFlightInfoOnly\": \"true\",\n",
    "        }\n",
    "\n",
    "        headers = {\n",
    "            \"X-RapidAPI-Key\": os.getenv(\"RAPID_API_KEY\"),\n",
    "            \"X-RapidAPI-Host\": \"aerodatabox.p.rapidapi.com\",\n",
    "        }\n",
    "\n",
    "        response = requests.get(url, headers=headers, params=querystring)\n",
    "\n",
    "        airports_list.append(pd.json_normalize(response.json()[\"items\"]))\n",
    "        airports_df = pd.concat(airports_list, ignore_index=True)\n",
    "\n",
    "        airports_df = airports_df.rename(columns={\"municipalityName\": \"city_name\", \"icao\": \"airport_icao\",\n",
    "                            \"name\": \"airport_name\"})\n",
    "\n",
    "    return airports_df"
   ]
  },
  {
   "cell_type": "markdown",
   "metadata": {},
   "source": [
    "## Pushing the `airports_df` to `airports` table in SQL"
   ]
  },
  {
   "cell_type": "code",
   "execution_count": 10,
   "metadata": {},
   "outputs": [
    {
     "data": {
      "text/plain": [
       "2"
      ]
     },
     "execution_count": 10,
     "metadata": {},
     "output_type": "execute_result"
    }
   ],
   "source": [
    "get_airports(list_of_cities)[[\"city_name\", \"airport_icao\", \"airport_name\"]].to_sql(\"airports\", if_exists=\"append\", con=con, index=False)"
   ]
  },
  {
   "cell_type": "code",
   "execution_count": 11,
   "metadata": {},
   "outputs": [
    {
     "data": {
      "text/html": [
       "<div>\n",
       "<style scoped>\n",
       "    .dataframe tbody tr th:only-of-type {\n",
       "        vertical-align: middle;\n",
       "    }\n",
       "\n",
       "    .dataframe tbody tr th {\n",
       "        vertical-align: top;\n",
       "    }\n",
       "\n",
       "    .dataframe thead th {\n",
       "        text-align: right;\n",
       "    }\n",
       "</style>\n",
       "<table border=\"1\" class=\"dataframe\">\n",
       "  <thead>\n",
       "    <tr style=\"text-align: right;\">\n",
       "      <th></th>\n",
       "      <th>city_name</th>\n",
       "      <th>airport_icao</th>\n",
       "      <th>airport_name</th>\n",
       "    </tr>\n",
       "  </thead>\n",
       "  <tbody>\n",
       "    <tr>\n",
       "      <th>0</th>\n",
       "      <td>Berlin</td>\n",
       "      <td>EDDB</td>\n",
       "      <td>Berlin Brandenburg</td>\n",
       "    </tr>\n",
       "    <tr>\n",
       "      <th>1</th>\n",
       "      <td>Hamburg</td>\n",
       "      <td>EDDH</td>\n",
       "      <td>Hamburg</td>\n",
       "    </tr>\n",
       "  </tbody>\n",
       "</table>\n",
       "</div>"
      ],
      "text/plain": [
       "  city_name airport_icao        airport_name\n",
       "0    Berlin         EDDB  Berlin Brandenburg\n",
       "1   Hamburg         EDDH            Hamburg "
      ]
     },
     "execution_count": 11,
     "metadata": {},
     "output_type": "execute_result"
    }
   ],
   "source": [
    "airports_sql = pd.read_sql_table(\"airports\", con=con)\n",
    "airports_sql"
   ]
  },
  {
   "cell_type": "markdown",
   "metadata": {},
   "source": [
    "## Defining a function to create a `weathers_df`"
   ]
  },
  {
   "cell_type": "code",
   "execution_count": 12,
   "metadata": {},
   "outputs": [],
   "source": [
    "## Weathers dataframe (through API call)\n",
    "def get_weathers(city_list):\n",
    "\n",
    "    # Getting OpenWeather key from .env-file\n",
    "    API_key = os.getenv(\"OPEN_WEATHER_KEY\")\n",
    "\n",
    "    # Initializing emptly lists that will be filled with weather info per city and later be used to create a dataframe\n",
    "    countries = []\n",
    "    cities= []\n",
    "    times = []\n",
    "    temps = []\n",
    "    temps_feel = []\n",
    "    temps_min = []\n",
    "    temps_max = []\n",
    "    humidities = []\n",
    "    weather_mains = [] \n",
    "    weather_descriptions = []\n",
    "    wind_speeds = []\n",
    "    visabilities = []\n",
    "    rain_probability = []\n",
    "    city_ids = []\n",
    "    \n",
    "    # Reading in the city infos from the SQL database table \"cities\"\n",
    "    cities_sql = pd.read_sql_table(\"cities\", con=con)\n",
    "    \n",
    "    # Iterating through the list of cities to collect the weather data from\n",
    "    for city in city_list:\n",
    "        city_name = city\n",
    "\n",
    "        # Sending a GET request on the API call url\n",
    "        weather = requests.get(f\"https://api.openweathermap.org/data/2.5/forecast?q={city_name}&appid={API_key}&units=metric\")\n",
    "        # Using json()-method to access the pulled data in JSON format\n",
    "        weather_json = weather.json()\n",
    "\n",
    "        # Going through the different levels and directories of the JSON-file to collect desired info, iterating over the cities\n",
    "        for i in range(len(weather_json[\"list\"])):\n",
    "            countries.append(weather_json[\"city\"][\"country\"])\n",
    "            cities.append(weather_json[\"city\"][\"name\"])\n",
    "            times.append(weather_json[\"list\"][i][\"dt_txt\"])\n",
    "            temps.append(weather_json[\"list\"][i][\"main\"][\"temp\"])\n",
    "            temps_feel.append(weather_json[\"list\"][i][\"main\"][\"feels_like\"])\n",
    "            temps_min.append(weather_json[\"list\"][i][\"main\"][\"temp_min\"])\n",
    "            temps_max.append(weather_json[\"list\"][i][\"main\"][\"temp_max\"])\n",
    "            humidities.append(weather_json[\"list\"][i][\"main\"][\"humidity\"])\n",
    "            weather_mains.append(weather_json[\"list\"][i][\"weather\"][0][\"main\"])\n",
    "            weather_descriptions.append(weather_json[\"list\"][i][\"weather\"][0][\"description\"])\n",
    "            wind_speeds.append(weather_json[\"list\"][i][\"wind\"][\"speed\"])\n",
    "            visabilities.append(weather_json[\"list\"][i][\"visibility\"])\n",
    "            rain_probability.append(weather_json[\"list\"][i][\"pop\"])\n",
    "            city_ids.append(cities_sql.loc[cities_sql[\"city_name\"]==city][\"city_id\"].item())\n",
    "\n",
    "    # Putting together the dataframe consisting of a dictionary with lists in it\n",
    "    weathers_df = pd.DataFrame({\"city_id\": city_ids,\n",
    "                            \"forecast_time\": times,\n",
    "                            \"outlook\": weather_descriptions,\n",
    "                            \"temperature\": temps,\n",
    "                            \"feels_like\": temps_feel,\n",
    "                            \"wind_speed\": wind_speeds,\n",
    "                            \"rain_prob\": rain_probability\n",
    "                            })\n",
    "    # Returning the dataframe\n",
    "    return weathers_df"
   ]
  },
  {
   "cell_type": "markdown",
   "metadata": {},
   "source": [
    "## Pushing the `weathers_df` to `weathers` table in SQL"
   ]
  },
  {
   "cell_type": "code",
   "execution_count": 11,
   "metadata": {},
   "outputs": [
    {
     "data": {
      "text/plain": [
       "160"
      ]
     },
     "execution_count": 11,
     "metadata": {},
     "output_type": "execute_result"
    }
   ],
   "source": [
    "get_weathers(list_of_cities).to_sql(\"weathers\", if_exists=\"append\", con=con, index=False)"
   ]
  },
  {
   "cell_type": "code",
   "execution_count": 16,
   "metadata": {},
   "outputs": [
    {
     "data": {
      "text/html": [
       "<div>\n",
       "<style scoped>\n",
       "    .dataframe tbody tr th:only-of-type {\n",
       "        vertical-align: middle;\n",
       "    }\n",
       "\n",
       "    .dataframe tbody tr th {\n",
       "        vertical-align: top;\n",
       "    }\n",
       "\n",
       "    .dataframe thead th {\n",
       "        text-align: right;\n",
       "    }\n",
       "</style>\n",
       "<table border=\"1\" class=\"dataframe\">\n",
       "  <thead>\n",
       "    <tr style=\"text-align: right;\">\n",
       "      <th></th>\n",
       "      <th>id</th>\n",
       "      <th>city_id</th>\n",
       "      <th>forecast_time</th>\n",
       "      <th>outlook</th>\n",
       "      <th>temperature</th>\n",
       "      <th>feels_like</th>\n",
       "      <th>wind_speed</th>\n",
       "      <th>rain_prob</th>\n",
       "    </tr>\n",
       "  </thead>\n",
       "  <tbody>\n",
       "    <tr>\n",
       "      <th>0</th>\n",
       "      <td>1</td>\n",
       "      <td>1</td>\n",
       "      <td>2023-11-08 12:00:00</td>\n",
       "      <td>broken clouds</td>\n",
       "      <td>9.53</td>\n",
       "      <td>6.78</td>\n",
       "      <td>5.60</td>\n",
       "      <td>0.00</td>\n",
       "    </tr>\n",
       "    <tr>\n",
       "      <th>1</th>\n",
       "      <td>2</td>\n",
       "      <td>1</td>\n",
       "      <td>2023-11-08 15:00:00</td>\n",
       "      <td>overcast clouds</td>\n",
       "      <td>9.96</td>\n",
       "      <td>7.70</td>\n",
       "      <td>4.59</td>\n",
       "      <td>0.00</td>\n",
       "    </tr>\n",
       "    <tr>\n",
       "      <th>2</th>\n",
       "      <td>3</td>\n",
       "      <td>1</td>\n",
       "      <td>2023-11-08 18:00:00</td>\n",
       "      <td>overcast clouds</td>\n",
       "      <td>8.60</td>\n",
       "      <td>6.09</td>\n",
       "      <td>4.40</td>\n",
       "      <td>0.00</td>\n",
       "    </tr>\n",
       "    <tr>\n",
       "      <th>3</th>\n",
       "      <td>4</td>\n",
       "      <td>1</td>\n",
       "      <td>2023-11-08 21:00:00</td>\n",
       "      <td>scattered clouds</td>\n",
       "      <td>7.52</td>\n",
       "      <td>4.61</td>\n",
       "      <td>4.71</td>\n",
       "      <td>0.00</td>\n",
       "    </tr>\n",
       "    <tr>\n",
       "      <th>4</th>\n",
       "      <td>5</td>\n",
       "      <td>1</td>\n",
       "      <td>2023-11-09 00:00:00</td>\n",
       "      <td>broken clouds</td>\n",
       "      <td>7.70</td>\n",
       "      <td>4.87</td>\n",
       "      <td>4.65</td>\n",
       "      <td>0.00</td>\n",
       "    </tr>\n",
       "    <tr>\n",
       "      <th>...</th>\n",
       "      <td>...</td>\n",
       "      <td>...</td>\n",
       "      <td>...</td>\n",
       "      <td>...</td>\n",
       "      <td>...</td>\n",
       "      <td>...</td>\n",
       "      <td>...</td>\n",
       "      <td>...</td>\n",
       "    </tr>\n",
       "    <tr>\n",
       "      <th>475</th>\n",
       "      <td>476</td>\n",
       "      <td>2</td>\n",
       "      <td>2023-11-12 21:00:00</td>\n",
       "      <td>scattered clouds</td>\n",
       "      <td>4.88</td>\n",
       "      <td>4.88</td>\n",
       "      <td>1.11</td>\n",
       "      <td>0.00</td>\n",
       "    </tr>\n",
       "    <tr>\n",
       "      <th>476</th>\n",
       "      <td>477</td>\n",
       "      <td>2</td>\n",
       "      <td>2023-11-13 00:00:00</td>\n",
       "      <td>broken clouds</td>\n",
       "      <td>5.45</td>\n",
       "      <td>4.68</td>\n",
       "      <td>1.34</td>\n",
       "      <td>0.00</td>\n",
       "    </tr>\n",
       "    <tr>\n",
       "      <th>477</th>\n",
       "      <td>478</td>\n",
       "      <td>2</td>\n",
       "      <td>2023-11-13 03:00:00</td>\n",
       "      <td>overcast clouds</td>\n",
       "      <td>5.04</td>\n",
       "      <td>3.84</td>\n",
       "      <td>1.62</td>\n",
       "      <td>0.00</td>\n",
       "    </tr>\n",
       "    <tr>\n",
       "      <th>478</th>\n",
       "      <td>479</td>\n",
       "      <td>2</td>\n",
       "      <td>2023-11-13 06:00:00</td>\n",
       "      <td>overcast clouds</td>\n",
       "      <td>3.72</td>\n",
       "      <td>1.98</td>\n",
       "      <td>1.91</td>\n",
       "      <td>0.00</td>\n",
       "    </tr>\n",
       "    <tr>\n",
       "      <th>479</th>\n",
       "      <td>480</td>\n",
       "      <td>2</td>\n",
       "      <td>2023-11-13 09:00:00</td>\n",
       "      <td>broken clouds</td>\n",
       "      <td>4.80</td>\n",
       "      <td>2.53</td>\n",
       "      <td>2.66</td>\n",
       "      <td>0.06</td>\n",
       "    </tr>\n",
       "  </tbody>\n",
       "</table>\n",
       "<p>480 rows × 8 columns</p>\n",
       "</div>"
      ],
      "text/plain": [
       "      id  city_id       forecast_time           outlook  temperature  \\\n",
       "0      1        1 2023-11-08 12:00:00     broken clouds         9.53   \n",
       "1      2        1 2023-11-08 15:00:00   overcast clouds         9.96   \n",
       "2      3        1 2023-11-08 18:00:00   overcast clouds         8.60   \n",
       "3      4        1 2023-11-08 21:00:00  scattered clouds         7.52   \n",
       "4      5        1 2023-11-09 00:00:00     broken clouds         7.70   \n",
       "..   ...      ...                 ...               ...          ...   \n",
       "475  476        2 2023-11-12 21:00:00  scattered clouds         4.88   \n",
       "476  477        2 2023-11-13 00:00:00     broken clouds         5.45   \n",
       "477  478        2 2023-11-13 03:00:00   overcast clouds         5.04   \n",
       "478  479        2 2023-11-13 06:00:00   overcast clouds         3.72   \n",
       "479  480        2 2023-11-13 09:00:00     broken clouds         4.80   \n",
       "\n",
       "     feels_like  wind_speed  rain_prob  \n",
       "0          6.78        5.60       0.00  \n",
       "1          7.70        4.59       0.00  \n",
       "2          6.09        4.40       0.00  \n",
       "3          4.61        4.71       0.00  \n",
       "4          4.87        4.65       0.00  \n",
       "..          ...         ...        ...  \n",
       "475        4.88        1.11       0.00  \n",
       "476        4.68        1.34       0.00  \n",
       "477        3.84        1.62       0.00  \n",
       "478        1.98        1.91       0.00  \n",
       "479        2.53        2.66       0.06  \n",
       "\n",
       "[480 rows x 8 columns]"
      ]
     },
     "execution_count": 16,
     "metadata": {},
     "output_type": "execute_result"
    }
   ],
   "source": [
    "weathers_sql = pd.read_sql_table(\"weathers\", con = con)\n",
    "weathers_sql"
   ]
  },
  {
   "cell_type": "markdown",
   "metadata": {},
   "source": [
    "## Defining a function to create a `flights_df`"
   ]
  },
  {
   "cell_type": "code",
   "execution_count": 23,
   "metadata": {},
   "outputs": [],
   "source": [
    "def get_flights(city_list):\n",
    "\n",
    "    icaos_list = []\n",
    "    icaos_flat_list = []\n",
    "\n",
    "    airports_sql = pd.read_sql_table(\"airports\", con=con)\n",
    "    \n",
    "    for city in city_list:\n",
    "        icaos_list.append(airports_sql.loc[airports_sql[\"city_name\"]==city][\"airport_icao\"].to_list())\n",
    "\n",
    "    icaos_flat_list = [item for sublist in icaos_list for item in sublist]\n",
    "\n",
    "    # Get Tomorrow\n",
    "    tomorrow = datetime.now() + timedelta(1)\n",
    "    tomorrow_url = tomorrow.strftime(\"%Y-%m-%d\")\n",
    "\n",
    "    list_for_df = []\n",
    "\n",
    "    for icao in icaos_flat_list:\n",
    "\n",
    "        for i in range(2):\n",
    "\n",
    "            url =  [f\"https://aerodatabox.p.rapidapi.com/flights/airports/icao/{icao}/{tomorrow_url}T00:00/{tomorrow_url}T12:00\",\n",
    "                    f\"https://aerodatabox.p.rapidapi.com/flights/airports/icao/{icao}/{tomorrow_url}T12:01/{tomorrow_url}T23:59\"\n",
    "                    ]    \n",
    "\n",
    "            querystring = {\"withLeg\":\"true\"}\n",
    "\n",
    "            headers = {\n",
    "                \"X-RapidAPI-Key\": os.getenv(\"RAPID_API_KEY\"),\n",
    "                \"X-RapidAPI-Host\": \"aerodatabox.p.rapidapi.com\"\n",
    "            }\n",
    "\n",
    "            response = requests.get(url[i], headers=headers, params=querystring)\n",
    "            \n",
    "            arrivals = pd.json_normalize(response.json()[\"arrivals\"])\n",
    "\n",
    "            arrivals_df = pd.DataFrame({\"flight_num\": arrivals.loc[:,\"number\"],\n",
    "                            \"departure_icao\": arrivals.loc[:,\"departure.airport.icao\"],\n",
    "                            \"arrival_icao\": icao,\n",
    "                            \"arrival_time\": arrivals.loc[:,\"arrival.scheduledTime.local\"].str[:-6].astype(str) + \":00\"\n",
    "                            })\n",
    "            arrivals_df[\"arrival_time\"] = pd.to_datetime(arrivals_df[\"arrival_time\"])\n",
    "                        \n",
    "            list_for_df.append(arrivals_df)\n",
    "    \n",
    "    flights_df = pd.concat(list_for_df, ignore_index=True)       \n",
    "\n",
    "    return flights_df"
   ]
  },
  {
   "cell_type": "markdown",
   "metadata": {},
   "source": [
    "## Pushing the `flights_df` to `flights` table in SQL"
   ]
  },
  {
   "cell_type": "markdown",
   "metadata": {},
   "source": [
    "## EGKR\tKRH\tRedhill Aerodrome airport close to London is making trouble, throwing json errors"
   ]
  },
  {
   "cell_type": "code",
   "execution_count": null,
   "metadata": {},
   "outputs": [],
   "source": [
    "get_flights(list_of_cities).to_sql(\"flights\", if_exists=\"append\", con=con, index=False)"
   ]
  },
  {
   "cell_type": "code",
   "execution_count": 15,
   "metadata": {},
   "outputs": [
    {
     "data": {
      "text/html": [
       "<div>\n",
       "<style scoped>\n",
       "    .dataframe tbody tr th:only-of-type {\n",
       "        vertical-align: middle;\n",
       "    }\n",
       "\n",
       "    .dataframe tbody tr th {\n",
       "        vertical-align: top;\n",
       "    }\n",
       "\n",
       "    .dataframe thead th {\n",
       "        text-align: right;\n",
       "    }\n",
       "</style>\n",
       "<table border=\"1\" class=\"dataframe\">\n",
       "  <thead>\n",
       "    <tr style=\"text-align: right;\">\n",
       "      <th></th>\n",
       "      <th>flight_id</th>\n",
       "      <th>flight_num</th>\n",
       "      <th>departure_icao</th>\n",
       "      <th>arrival_icao</th>\n",
       "      <th>arrival_time</th>\n",
       "    </tr>\n",
       "  </thead>\n",
       "  <tbody>\n",
       "    <tr>\n",
       "      <th>0</th>\n",
       "      <td>1</td>\n",
       "      <td>E4 546</td>\n",
       "      <td>LIRF</td>\n",
       "      <td>EDDB</td>\n",
       "      <td>2023-11-09 06:00:00</td>\n",
       "    </tr>\n",
       "    <tr>\n",
       "      <th>1</th>\n",
       "      <td>2</td>\n",
       "      <td>SR 8853</td>\n",
       "      <td>LIRF</td>\n",
       "      <td>EDDB</td>\n",
       "      <td>2023-11-09 06:05:00</td>\n",
       "    </tr>\n",
       "    <tr>\n",
       "      <th>2</th>\n",
       "      <td>3</td>\n",
       "      <td>SM 2962</td>\n",
       "      <td>HEMA</td>\n",
       "      <td>EDDB</td>\n",
       "      <td>2023-11-09 06:20:00</td>\n",
       "    </tr>\n",
       "    <tr>\n",
       "      <th>3</th>\n",
       "      <td>4</td>\n",
       "      <td>QR 79</td>\n",
       "      <td>OTHH</td>\n",
       "      <td>EDDB</td>\n",
       "      <td>2023-11-09 06:50:00</td>\n",
       "    </tr>\n",
       "    <tr>\n",
       "      <th>4</th>\n",
       "      <td>5</td>\n",
       "      <td>BT 211</td>\n",
       "      <td>EVRA</td>\n",
       "      <td>EDDB</td>\n",
       "      <td>2023-11-09 07:55:00</td>\n",
       "    </tr>\n",
       "    <tr>\n",
       "      <th>...</th>\n",
       "      <td>...</td>\n",
       "      <td>...</td>\n",
       "      <td>...</td>\n",
       "      <td>...</td>\n",
       "      <td>...</td>\n",
       "    </tr>\n",
       "    <tr>\n",
       "      <th>803</th>\n",
       "      <td>804</td>\n",
       "      <td>LH 36</td>\n",
       "      <td>EDDF</td>\n",
       "      <td>EDDH</td>\n",
       "      <td>2023-11-09 22:20:00</td>\n",
       "    </tr>\n",
       "    <tr>\n",
       "      <th>804</th>\n",
       "      <td>805</td>\n",
       "      <td>LO 401</td>\n",
       "      <td>EPWA</td>\n",
       "      <td>EDDH</td>\n",
       "      <td>2023-11-09 22:20:00</td>\n",
       "    </tr>\n",
       "    <tr>\n",
       "      <th>805</th>\n",
       "      <td>806</td>\n",
       "      <td>OS 167</td>\n",
       "      <td>LOWW</td>\n",
       "      <td>EDDH</td>\n",
       "      <td>2023-11-09 22:00:00</td>\n",
       "    </tr>\n",
       "    <tr>\n",
       "      <th>806</th>\n",
       "      <td>807</td>\n",
       "      <td>SN 2629</td>\n",
       "      <td>EBBR</td>\n",
       "      <td>EDDH</td>\n",
       "      <td>2023-11-09 22:10:00</td>\n",
       "    </tr>\n",
       "    <tr>\n",
       "      <th>807</th>\n",
       "      <td>808</td>\n",
       "      <td>TP 564</td>\n",
       "      <td>LPPT</td>\n",
       "      <td>EDDH</td>\n",
       "      <td>2023-11-09 22:35:00</td>\n",
       "    </tr>\n",
       "  </tbody>\n",
       "</table>\n",
       "<p>808 rows × 5 columns</p>\n",
       "</div>"
      ],
      "text/plain": [
       "     flight_id flight_num departure_icao arrival_icao        arrival_time\n",
       "0            1     E4 546           LIRF         EDDB 2023-11-09 06:00:00\n",
       "1            2    SR 8853           LIRF         EDDB 2023-11-09 06:05:00\n",
       "2            3    SM 2962           HEMA         EDDB 2023-11-09 06:20:00\n",
       "3            4      QR 79           OTHH         EDDB 2023-11-09 06:50:00\n",
       "4            5     BT 211           EVRA         EDDB 2023-11-09 07:55:00\n",
       "..         ...        ...            ...          ...                 ...\n",
       "803        804      LH 36           EDDF         EDDH 2023-11-09 22:20:00\n",
       "804        805     LO 401           EPWA         EDDH 2023-11-09 22:20:00\n",
       "805        806     OS 167           LOWW         EDDH 2023-11-09 22:00:00\n",
       "806        807    SN 2629           EBBR         EDDH 2023-11-09 22:10:00\n",
       "807        808     TP 564           LPPT         EDDH 2023-11-09 22:35:00\n",
       "\n",
       "[808 rows x 5 columns]"
      ]
     },
     "execution_count": 15,
     "metadata": {},
     "output_type": "execute_result"
    }
   ],
   "source": [
    "flights_sql = pd.read_sql_table(\"flights\", con=con)\n",
    "flights_sql"
   ]
  }
 ],
 "metadata": {
  "kernelspec": {
   "display_name": "wbs",
   "language": "python",
   "name": "python3"
  },
  "language_info": {
   "codemirror_mode": {
    "name": "ipython",
    "version": 3
   },
   "file_extension": ".py",
   "mimetype": "text/x-python",
   "name": "python",
   "nbconvert_exporter": "python",
   "pygments_lexer": "ipython3",
   "version": "3.11.5"
  },
  "orig_nbformat": 4
 },
 "nbformat": 4,
 "nbformat_minor": 2
}
